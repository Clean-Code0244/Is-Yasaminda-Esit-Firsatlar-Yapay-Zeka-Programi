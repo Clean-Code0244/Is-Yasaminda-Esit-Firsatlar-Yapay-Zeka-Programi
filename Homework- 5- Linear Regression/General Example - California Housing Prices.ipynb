{
 "cells": [
  {
   "cell_type": "code",
   "execution_count": 37,
   "id": "5b6508a0",
   "metadata": {},
   "outputs": [
    {
     "data": {
      "text/html": [
       "<div>\n",
       "<style scoped>\n",
       "    .dataframe tbody tr th:only-of-type {\n",
       "        vertical-align: middle;\n",
       "    }\n",
       "\n",
       "    .dataframe tbody tr th {\n",
       "        vertical-align: top;\n",
       "    }\n",
       "\n",
       "    .dataframe thead th {\n",
       "        text-align: right;\n",
       "    }\n",
       "</style>\n",
       "<table border=\"1\" class=\"dataframe\">\n",
       "  <thead>\n",
       "    <tr style=\"text-align: right;\">\n",
       "      <th></th>\n",
       "      <th>MedInc</th>\n",
       "      <th>HouseAge</th>\n",
       "      <th>AveRooms</th>\n",
       "      <th>AveBedrms</th>\n",
       "      <th>Population</th>\n",
       "      <th>AveOccup</th>\n",
       "      <th>Latitude</th>\n",
       "      <th>Longitude</th>\n",
       "      <th>target</th>\n",
       "    </tr>\n",
       "  </thead>\n",
       "  <tbody>\n",
       "    <tr>\n",
       "      <th>0</th>\n",
       "      <td>8.3252</td>\n",
       "      <td>41.0</td>\n",
       "      <td>6.984127</td>\n",
       "      <td>1.023810</td>\n",
       "      <td>322.0</td>\n",
       "      <td>2.555556</td>\n",
       "      <td>37.88</td>\n",
       "      <td>-122.23</td>\n",
       "      <td>4.526</td>\n",
       "    </tr>\n",
       "    <tr>\n",
       "      <th>1</th>\n",
       "      <td>8.3014</td>\n",
       "      <td>21.0</td>\n",
       "      <td>6.238137</td>\n",
       "      <td>0.971880</td>\n",
       "      <td>2401.0</td>\n",
       "      <td>2.109842</td>\n",
       "      <td>37.86</td>\n",
       "      <td>-122.22</td>\n",
       "      <td>3.585</td>\n",
       "    </tr>\n",
       "    <tr>\n",
       "      <th>2</th>\n",
       "      <td>7.2574</td>\n",
       "      <td>52.0</td>\n",
       "      <td>8.288136</td>\n",
       "      <td>1.073446</td>\n",
       "      <td>496.0</td>\n",
       "      <td>2.802260</td>\n",
       "      <td>37.85</td>\n",
       "      <td>-122.24</td>\n",
       "      <td>3.521</td>\n",
       "    </tr>\n",
       "    <tr>\n",
       "      <th>3</th>\n",
       "      <td>5.6431</td>\n",
       "      <td>52.0</td>\n",
       "      <td>5.817352</td>\n",
       "      <td>1.073059</td>\n",
       "      <td>558.0</td>\n",
       "      <td>2.547945</td>\n",
       "      <td>37.85</td>\n",
       "      <td>-122.25</td>\n",
       "      <td>3.413</td>\n",
       "    </tr>\n",
       "    <tr>\n",
       "      <th>4</th>\n",
       "      <td>3.8462</td>\n",
       "      <td>52.0</td>\n",
       "      <td>6.281853</td>\n",
       "      <td>1.081081</td>\n",
       "      <td>565.0</td>\n",
       "      <td>2.181467</td>\n",
       "      <td>37.85</td>\n",
       "      <td>-122.25</td>\n",
       "      <td>3.422</td>\n",
       "    </tr>\n",
       "  </tbody>\n",
       "</table>\n",
       "</div>"
      ],
      "text/plain": [
       "   MedInc  HouseAge  AveRooms  AveBedrms  Population  AveOccup  Latitude  \\\n",
       "0  8.3252      41.0  6.984127   1.023810       322.0  2.555556     37.88   \n",
       "1  8.3014      21.0  6.238137   0.971880      2401.0  2.109842     37.86   \n",
       "2  7.2574      52.0  8.288136   1.073446       496.0  2.802260     37.85   \n",
       "3  5.6431      52.0  5.817352   1.073059       558.0  2.547945     37.85   \n",
       "4  3.8462      52.0  6.281853   1.081081       565.0  2.181467     37.85   \n",
       "\n",
       "   Longitude  target  \n",
       "0    -122.23   4.526  \n",
       "1    -122.22   3.585  \n",
       "2    -122.24   3.521  \n",
       "3    -122.25   3.413  \n",
       "4    -122.25   3.422  "
      ]
     },
     "execution_count": 37,
     "metadata": {},
     "output_type": "execute_result"
    }
   ],
   "source": [
    "from sklearn.datasets import fetch_california_housing\n",
    "from sklearn.model_selection import train_test_split\n",
    "from sklearn.linear_model import LinearRegression\n",
    "from sklearn.metrics import mean_squared_error, r2_score\n",
    "from scipy.stats import boxcox\n",
    "from scipy.stats import normaltest\n",
    "import numpy as np\n",
    "import pandas as pd\n",
    "import seaborn as sns\n",
    "import matplotlib.pyplot as plt\n",
    "\n",
    "# Veri seti olarak bunu seçtim\n",
    "data = fetch_california_housing()\n",
    "df = pd.DataFrame(data.data, columns=data.feature_names)\n",
    "df['target'] = data.target  # Label sütunu\n",
    "\n",
    "df.head()\n",
    "\n"
   ]
  },
  {
   "cell_type": "markdown",
   "id": "6665865c",
   "metadata": {},
   "source": [
    "# Özellikler (Features):\n",
    "\n",
    " * MedInc: Median income (orta gelir)\n",
    "\n",
    " * HouseAge: Ev yaşı\n",
    "\n",
    " * AveRooms: Ortalama oda sayısı\n",
    " \n",
    " * AveBedrms: Ortalama yatak odası sayısı\n",
    "\n",
    " * AveOccup: Ortalama işgal oranı\n",
    "\n",
    " * Latitude: Enlem\n",
    " \n",
    " * Population: Yerleşkedeki nüfus\n",
    "\n",
    " * Longitude: Boylam\n",
    "\n",
    " * MedHouseVal(target) : Ev fiyatları (hedef değişken)"
   ]
  },
  {
   "cell_type": "code",
   "execution_count": 6,
   "id": "6e787741",
   "metadata": {},
   "outputs": [
    {
     "name": "stdout",
     "output_type": "stream",
     "text": [
      "<class 'pandas.core.frame.DataFrame'>\n",
      "RangeIndex: 20640 entries, 0 to 20639\n",
      "Data columns (total 9 columns):\n",
      " #   Column      Non-Null Count  Dtype  \n",
      "---  ------      --------------  -----  \n",
      " 0   MedInc      20640 non-null  float64\n",
      " 1   HouseAge    20640 non-null  float64\n",
      " 2   AveRooms    20640 non-null  float64\n",
      " 3   AveBedrms   20640 non-null  float64\n",
      " 4   Population  20640 non-null  float64\n",
      " 5   AveOccup    20640 non-null  float64\n",
      " 6   Latitude    20640 non-null  float64\n",
      " 7   Longitude   20640 non-null  float64\n",
      " 8   target      20640 non-null  float64\n",
      "dtypes: float64(9)\n",
      "memory usage: 1.4 MB\n"
     ]
    }
   ],
   "source": [
    "df.info()\n"
   ]
  },
  {
   "cell_type": "code",
   "execution_count": 7,
   "id": "23bc82a2",
   "metadata": {},
   "outputs": [
    {
     "data": {
      "text/html": [
       "<div>\n",
       "<style scoped>\n",
       "    .dataframe tbody tr th:only-of-type {\n",
       "        vertical-align: middle;\n",
       "    }\n",
       "\n",
       "    .dataframe tbody tr th {\n",
       "        vertical-align: top;\n",
       "    }\n",
       "\n",
       "    .dataframe thead th {\n",
       "        text-align: right;\n",
       "    }\n",
       "</style>\n",
       "<table border=\"1\" class=\"dataframe\">\n",
       "  <thead>\n",
       "    <tr style=\"text-align: right;\">\n",
       "      <th></th>\n",
       "      <th>MedInc</th>\n",
       "      <th>HouseAge</th>\n",
       "      <th>AveRooms</th>\n",
       "      <th>AveBedrms</th>\n",
       "      <th>Population</th>\n",
       "      <th>AveOccup</th>\n",
       "      <th>Latitude</th>\n",
       "      <th>Longitude</th>\n",
       "      <th>target</th>\n",
       "    </tr>\n",
       "  </thead>\n",
       "  <tbody>\n",
       "    <tr>\n",
       "      <th>count</th>\n",
       "      <td>20640.000000</td>\n",
       "      <td>20640.000000</td>\n",
       "      <td>20640.000000</td>\n",
       "      <td>20640.000000</td>\n",
       "      <td>20640.000000</td>\n",
       "      <td>20640.000000</td>\n",
       "      <td>20640.000000</td>\n",
       "      <td>20640.000000</td>\n",
       "      <td>20640.000000</td>\n",
       "    </tr>\n",
       "    <tr>\n",
       "      <th>mean</th>\n",
       "      <td>3.870671</td>\n",
       "      <td>28.639486</td>\n",
       "      <td>5.429000</td>\n",
       "      <td>1.096675</td>\n",
       "      <td>1425.476744</td>\n",
       "      <td>3.070655</td>\n",
       "      <td>35.631861</td>\n",
       "      <td>-119.569704</td>\n",
       "      <td>2.068558</td>\n",
       "    </tr>\n",
       "    <tr>\n",
       "      <th>std</th>\n",
       "      <td>1.899822</td>\n",
       "      <td>12.585558</td>\n",
       "      <td>2.474173</td>\n",
       "      <td>0.473911</td>\n",
       "      <td>1132.462122</td>\n",
       "      <td>10.386050</td>\n",
       "      <td>2.135952</td>\n",
       "      <td>2.003532</td>\n",
       "      <td>1.153956</td>\n",
       "    </tr>\n",
       "    <tr>\n",
       "      <th>min</th>\n",
       "      <td>0.499900</td>\n",
       "      <td>1.000000</td>\n",
       "      <td>0.846154</td>\n",
       "      <td>0.333333</td>\n",
       "      <td>3.000000</td>\n",
       "      <td>0.692308</td>\n",
       "      <td>32.540000</td>\n",
       "      <td>-124.350000</td>\n",
       "      <td>0.149990</td>\n",
       "    </tr>\n",
       "    <tr>\n",
       "      <th>25%</th>\n",
       "      <td>2.563400</td>\n",
       "      <td>18.000000</td>\n",
       "      <td>4.440716</td>\n",
       "      <td>1.006079</td>\n",
       "      <td>787.000000</td>\n",
       "      <td>2.429741</td>\n",
       "      <td>33.930000</td>\n",
       "      <td>-121.800000</td>\n",
       "      <td>1.196000</td>\n",
       "    </tr>\n",
       "    <tr>\n",
       "      <th>50%</th>\n",
       "      <td>3.534800</td>\n",
       "      <td>29.000000</td>\n",
       "      <td>5.229129</td>\n",
       "      <td>1.048780</td>\n",
       "      <td>1166.000000</td>\n",
       "      <td>2.818116</td>\n",
       "      <td>34.260000</td>\n",
       "      <td>-118.490000</td>\n",
       "      <td>1.797000</td>\n",
       "    </tr>\n",
       "    <tr>\n",
       "      <th>75%</th>\n",
       "      <td>4.743250</td>\n",
       "      <td>37.000000</td>\n",
       "      <td>6.052381</td>\n",
       "      <td>1.099526</td>\n",
       "      <td>1725.000000</td>\n",
       "      <td>3.282261</td>\n",
       "      <td>37.710000</td>\n",
       "      <td>-118.010000</td>\n",
       "      <td>2.647250</td>\n",
       "    </tr>\n",
       "    <tr>\n",
       "      <th>max</th>\n",
       "      <td>15.000100</td>\n",
       "      <td>52.000000</td>\n",
       "      <td>141.909091</td>\n",
       "      <td>34.066667</td>\n",
       "      <td>35682.000000</td>\n",
       "      <td>1243.333333</td>\n",
       "      <td>41.950000</td>\n",
       "      <td>-114.310000</td>\n",
       "      <td>5.000010</td>\n",
       "    </tr>\n",
       "  </tbody>\n",
       "</table>\n",
       "</div>"
      ],
      "text/plain": [
       "             MedInc      HouseAge      AveRooms     AveBedrms    Population  \\\n",
       "count  20640.000000  20640.000000  20640.000000  20640.000000  20640.000000   \n",
       "mean       3.870671     28.639486      5.429000      1.096675   1425.476744   \n",
       "std        1.899822     12.585558      2.474173      0.473911   1132.462122   \n",
       "min        0.499900      1.000000      0.846154      0.333333      3.000000   \n",
       "25%        2.563400     18.000000      4.440716      1.006079    787.000000   \n",
       "50%        3.534800     29.000000      5.229129      1.048780   1166.000000   \n",
       "75%        4.743250     37.000000      6.052381      1.099526   1725.000000   \n",
       "max       15.000100     52.000000    141.909091     34.066667  35682.000000   \n",
       "\n",
       "           AveOccup      Latitude     Longitude        target  \n",
       "count  20640.000000  20640.000000  20640.000000  20640.000000  \n",
       "mean       3.070655     35.631861   -119.569704      2.068558  \n",
       "std       10.386050      2.135952      2.003532      1.153956  \n",
       "min        0.692308     32.540000   -124.350000      0.149990  \n",
       "25%        2.429741     33.930000   -121.800000      1.196000  \n",
       "50%        2.818116     34.260000   -118.490000      1.797000  \n",
       "75%        3.282261     37.710000   -118.010000      2.647250  \n",
       "max     1243.333333     41.950000   -114.310000      5.000010  "
      ]
     },
     "execution_count": 7,
     "metadata": {},
     "output_type": "execute_result"
    }
   ],
   "source": [
    "df.describe()"
   ]
  },
  {
   "cell_type": "code",
   "execution_count": 8,
   "id": "e6ac83dd",
   "metadata": {},
   "outputs": [
    {
     "name": "stdout",
     "output_type": "stream",
     "text": [
      "Eksik değerler:\n",
      " MedInc        0\n",
      "HouseAge      0\n",
      "AveRooms      0\n",
      "AveBedrms     0\n",
      "Population    0\n",
      "AveOccup      0\n",
      "Latitude      0\n",
      "Longitude     0\n",
      "target        0\n",
      "dtype: int64\n"
     ]
    }
   ],
   "source": [
    "# Eksik veri kontrolü\n",
    "missing_values = df.isnull().sum()\n",
    "print(\"Eksik değerler:\\n\", missing_values)\n"
   ]
  },
  {
   "cell_type": "markdown",
   "id": "5027f701",
   "metadata": {},
   "source": [
    "# Veri Setinde eksik herhangi bir veri yok . O yüzden bu alttaki veri setinin boş değerlerini ortalama ile doldurmaya da gerek yok.\n",
    "# df = df.fillna(df.mean())\n"
   ]
  },
  {
   "cell_type": "code",
   "execution_count": 9,
   "id": "2db617b1",
   "metadata": {},
   "outputs": [
    {
     "data": {
      "image/png": "[encoded data removed]",
      "text/plain": [
       "<Figure size 720x576 with 2 Axes>"
      ]
     },
     "metadata": {
      "needs_background": "light"
     },
     "output_type": "display_data"
    }
   ],
   "source": [
    "# Korelasyon matrisi\n",
    "corr_matrix = df.corr()\n",
    "\n",
    "# Isı haritası\n",
    "plt.figure(figsize=(10, 8))\n",
    "sns.heatmap(corr_matrix, annot=True, cmap=\"coolwarm\", fmt=\".2f\", linewidths=0.5)\n",
    "plt.title(\"Korelasyon Matrisi\")\n",
    "plt.show()\n"
   ]
  },
  {
   "cell_type": "markdown",
   "id": "487ec727",
   "metadata": {},
   "source": [
    "# Görüldüğü üzere target/hedef değişken) ile en yüksek korealsyona sahip sütun MedInc sütunudur."
   ]
  },
  {
   "cell_type": "code",
   "execution_count": 10,
   "id": "6501a9bb",
   "metadata": {},
   "outputs": [],
   "source": [
    "\n",
    "# Bağımsız ve bağımlı değişkenler\n",
    "X = df[['MedInc']]  # Bağımsız değişken\n",
    "y = df['target']  # Bağımlı değişken (ev fiyatları)\n"
   ]
  },
  {
   "cell_type": "code",
   "execution_count": 11,
   "id": "7a4fe573",
   "metadata": {},
   "outputs": [],
   "source": [
    "# Veriyi eğitim ve test setlerine böldüm (%80 eğitim, %20 test)\n",
    "X_train, X_test, y_train, y_test = train_test_split(X, y, test_size=0.2, random_state=42)\n"
   ]
  },
  {
   "cell_type": "code",
   "execution_count": 12,
   "id": "455e18ef",
   "metadata": {},
   "outputs": [],
   "source": [
    "# Modeli oluşturdum\n",
    "model = LinearRegression()\n"
   ]
  },
  {
   "cell_type": "code",
   "execution_count": 13,
   "id": "07c59b9e",
   "metadata": {},
   "outputs": [
    {
     "data": {
      "text/plain": [
       "LinearRegression()"
      ]
     },
     "execution_count": 13,
     "metadata": {},
     "output_type": "execute_result"
    }
   ],
   "source": [
    "#Model eğittim Linear Regression ile\n",
    "model.fit(X_train, y_train)\n"
   ]
  },
  {
   "cell_type": "code",
   "execution_count": 14,
   "id": "24d70d41",
   "metadata": {},
   "outputs": [],
   "source": [
    "# Eğitilen Modele tahmin yaptırdım\n",
    "y_pred = model.predict(X_test)\n"
   ]
  },
  {
   "cell_type": "code",
   "execution_count": 15,
   "id": "d6eaf2d6",
   "metadata": {},
   "outputs": [
    {
     "name": "stdout",
     "output_type": "stream",
     "text": [
      "Mean Squared Error (MSE): 0.7091\n",
      "R² Skoru: 0.4589\n"
     ]
    }
   ],
   "source": [
    "\n",
    "# Modelin performansını ölçtüm\n",
    "mse = mean_squared_error(y_test, y_pred)\n",
    "r2 = r2_score(y_test, y_pred)\n",
    "\n",
    "print(f\"Mean Squared Error (MSE): {mse:.4f}\")\n",
    "print(f\"R² Skoru: {r2:.4f}\")"
   ]
  },
  {
   "cell_type": "code",
   "execution_count": 17,
   "id": "28d499dd",
   "metadata": {},
   "outputs": [
    {
     "data": {
      "image/png": "[encoded data removed]",
      "text/plain": [
       "<Figure size 432x288 with 1 Axes>"
      ]
     },
     "metadata": {
      "needs_background": "light"
     },
     "output_type": "display_data"
    }
   ],
   "source": [
    "\n",
    "# Regresyon doğrusunu görselleştirdim\n",
    "plt.scatter(X_test.values.ravel(), y_test, color='blue', label=\"Gerçek Değerler\")\n",
    "plt.plot(X_test.values.ravel(), y_pred, color='red', linewidth=2, label=\"Tahminler\")\n",
    "\n",
    "plt.xlabel(\"MedInc (Medyan Gelir)\")\n",
    "plt.ylabel(\"Ev Fiyatı (Target)\")\n",
    "plt.title(\"Simple Linear Regression: MedInc vs. Target\")\n",
    "plt.legend()\n",
    "plt.show()"
   ]
  },
  {
   "cell_type": "markdown",
   "id": "77f64f7e",
   "metadata": {},
   "source": [
    "# Multi Linear Regression"
   ]
  },
  {
   "cell_type": "code",
   "execution_count": 18,
   "id": "e11adce0",
   "metadata": {},
   "outputs": [],
   "source": [
    "# Bu kez birden target dışında kalan tüm sütunları dahil ederek Multi Linear Regression ile modeli eğiteceğim.\n",
    "# Bağımsız değişkenler (tüm sütunlar, 'target' hariç)\n",
    "X_multi = df.drop(columns=['target'])\n",
    "y_multi = df['target']  # Bağımlı değişken\n",
    "\n"
   ]
  },
  {
   "cell_type": "code",
   "execution_count": 19,
   "id": "7d24de58",
   "metadata": {},
   "outputs": [],
   "source": [
    "# Veriyi eğitim ve test setlerine ayırdım aynı şekilde (%80 eğitim, %20 test)\n",
    "X_train_m, X_test_m, y_train_m, y_test_m = train_test_split(X_multi, y_multi, test_size=0.2, random_state=42)\n"
   ]
  },
  {
   "cell_type": "code",
   "execution_count": 20,
   "id": "a53d40af",
   "metadata": {},
   "outputs": [],
   "source": [
    "# Modeli oluşturdum\n",
    "multi_model = LinearRegression()\n"
   ]
  },
  {
   "cell_type": "code",
   "execution_count": 21,
   "id": "e5189dbd",
   "metadata": {},
   "outputs": [
    {
     "data": {
      "text/plain": [
       "LinearRegression()"
      ]
     },
     "execution_count": 21,
     "metadata": {},
     "output_type": "execute_result"
    }
   ],
   "source": [
    "multi_model.fit(X_train_m, y_train_m)\n"
   ]
  },
  {
   "cell_type": "code",
   "execution_count": 23,
   "id": "291a3a5c",
   "metadata": {},
   "outputs": [
    {
     "name": "stdout",
     "output_type": "stream",
     "text": [
      "Multiple Linear Regression - Mean Squared Error (MSE): 0.5559\n",
      "Multiple Linear Regression - R² Skoru: 0.5758\n"
     ]
    }
   ],
   "source": [
    "\n",
    "# Modele tahmin yaptırdım\n",
    "y_pred_m = multi_model.predict(X_test_m)\n",
    "\n",
    "# Modelin performansını değerlendirdim burada\n",
    "mse_m = mean_squared_error(y_test_m, y_pred_m)\n",
    "r2_m = r2_score(y_test_m, y_pred_m)\n",
    "\n",
    "print(f\"Multiple Linear Regression - Mean Squared Error (MSE): {mse_m:.4f}\")\n",
    "print(f\"Multiple Linear Regression - R² Skoru: {r2_m:.4f}\")"
   ]
  },
  {
   "cell_type": "code",
   "execution_count": 30,
   "id": "410222c0",
   "metadata": {},
   "outputs": [
    {
     "data": {
      "image/png": "[encoded data removed]",
      "text/plain": [
       "<Figure size 432x288 with 1 Axes>"
      ]
     },
     "metadata": {
      "needs_background": "light"
     },
     "output_type": "display_data"
    }
   ],
   "source": [
    "plt.scatter(df['MedInc'], df['target'], alpha=0.5, color='blue')\n",
    "plt.xlabel(\"MedInc (Medyan Gelir)\")\n",
    "plt.ylabel(\"Ev Fiyatı (Target)\")\n",
    "plt.title(\"MedInc vs. Target Dağılım Grafiği\")\n",
    "plt.show()\n"
   ]
  },
  {
   "cell_type": "code",
   "execution_count": 31,
   "id": "61bc8098",
   "metadata": {},
   "outputs": [
    {
     "data": {
      "image/png": "[encoded data removed]",
      "text/plain": [
       "<Figure size 432x288 with 1 Axes>"
      ]
     },
     "metadata": {
      "needs_background": "light"
     },
     "output_type": "display_data"
    }
   ],
   "source": [
    "sns.boxplot(x=df['MedInc'], color='orange')\n",
    "plt.title(\"MedInc Kutu Grafiği\")\n",
    "plt.show()\n"
   ]
  },
  {
   "cell_type": "code",
   "execution_count": 32,
   "id": "56aea429",
   "metadata": {},
   "outputs": [
    {
     "data": {
      "text/plain": [
       "Text(0.5, 1.0, 'Orijinal Dağılım')"
      ]
     },
     "execution_count": 32,
     "metadata": {},
     "output_type": "execute_result"
    },
    {
     "data": {
      "image/png": "[encoded data removed]",
      "text/plain": [
       "<Figure size 1080x360 with 1 Axes>"
      ]
     },
     "metadata": {
      "needs_background": "light"
     },
     "output_type": "display_data"
    }
   ],
   "source": [
    "# Orijinal verinin histogramı\n",
    "plt.figure(figsize=(15, 5))\n",
    "\n",
    "plt.subplot(1, 4, 1)\n",
    "plt.hist(df['MedInc'], bins=30, color='blue', alpha=0.7, edgecolor='black')\n",
    "plt.title(\"Orijinal Dağılım\")"
   ]
  },
  {
   "cell_type": "code",
   "execution_count": 33,
   "id": "e6ebb1fa",
   "metadata": {},
   "outputs": [
    {
     "data": {
      "text/plain": [
       "Text(0.5, 1.0, 'Log Dönüşümü')"
      ]
     },
     "execution_count": 33,
     "metadata": {},
     "output_type": "execute_result"
    },
    {
     "data": {
      "image/png": "[encoded data removed]",
      "text/plain": [
       "<Figure size 432x288 with 1 Axes>"
      ]
     },
     "metadata": {
      "needs_background": "light"
     },
     "output_type": "display_data"
    }
   ],
   "source": [
    "# Log transformation uygulanmış halinin görünümü\n",
    "df['MedInc_log'] = np.log1p(df['MedInc'])\n",
    "plt.subplot(1, 4, 2)\n",
    "plt.hist(df['MedInc_log'], bins=30, color='green', alpha=0.7, edgecolor='black')\n",
    "plt.title(\"Log Dönüşümü\")"
   ]
  },
  {
   "cell_type": "code",
   "execution_count": 34,
   "id": "cb6fdcef",
   "metadata": {},
   "outputs": [
    {
     "data": {
      "text/plain": [
       "Text(0.5, 1.0, 'Karekök Dönüşümü')"
      ]
     },
     "execution_count": 34,
     "metadata": {},
     "output_type": "execute_result"
    },
    {
     "data": {
      "image/png": "[encoded data removed]",
      "text/plain": [
       "<Figure size 432x288 with 1 Axes>"
      ]
     },
     "metadata": {
      "needs_background": "light"
     },
     "output_type": "display_data"
    }
   ],
   "source": [
    "# Square Root (Karekök) dönüşümü\n",
    "df['MedInc_sqrt'] = np.sqrt(df['MedInc'])\n",
    "plt.subplot(1, 4, 3)\n",
    "plt.hist(df['MedInc_sqrt'], bins=30, color='purple', alpha=0.7, edgecolor='black')\n",
    "plt.title(\"Karekök Dönüşümü\")"
   ]
  },
  {
   "cell_type": "code",
   "execution_count": 36,
   "id": "927dd356",
   "metadata": {},
   "outputs": [
    {
     "data": {
      "image/png": "[encoded data removed]",
      "text/plain": [
       "<Figure size 432x288 with 1 Axes>"
      ]
     },
     "metadata": {
      "needs_background": "light"
     },
     "output_type": "display_data"
    }
   ],
   "source": [
    "# Box-Cox dönüşümü (Pozitif değerler gerektirir, bu yüzden min değeri düzelttim)\n",
    "df['MedInc_boxcox'], _ = boxcox(df['MedInc'] + 1)  # +1 ekleyerek negatif değerleri önledim\n",
    "plt.subplot(1, 4, 4)\n",
    "plt.hist(df['MedInc_boxcox'], bins=30, color='red', alpha=0.7, edgecolor='black')\n",
    "plt.title(\"Box-Cox Dönüşümü\")\n",
    "\n",
    "plt.show()"
   ]
  },
  {
   "cell_type": "code",
   "execution_count": 39,
   "id": "9c8a8d51",
   "metadata": {},
   "outputs": [],
   "source": [
    "# Test fonksiyonu\n",
    "def normality_test(data, name):\n",
    "    stat, p = normaltest(data)\n",
    "    print(f\"{name} için D'Agostino K² Testi: p-value = {p:.4f}\")\n",
    "    if p < 0.05:\n",
    "        print(f\"{name} normal DAĞILMIYOR \\n\")\n",
    "    else:\n",
    "        print(f\"{name} normal DAĞILIYOR \\n\")"
   ]
  },
  {
   "cell_type": "code",
   "execution_count": 41,
   "id": "fd85b477",
   "metadata": {},
   "outputs": [],
   "source": [
    "# Log dönüşümü\n",
    "df['MedInc_log'] = np.log1p(df['MedInc'])\n",
    "\n",
    "# Square Root (Karekök) dönüşümü\n",
    "df['MedInc_sqrt'] = np.sqrt(df['MedInc'])\n",
    "\n",
    "# Box-Cox dönüşümü (Sadece pozitif değerler için çalışır, bu yüzden +1 ekliyoruz)\n",
    "df['MedInc_boxcox'], _ = boxcox(df['MedInc'] + 1)\n"
   ]
  },
  {
   "cell_type": "code",
   "execution_count": 42,
   "id": "e364980d",
   "metadata": {},
   "outputs": [
    {
     "name": "stdout",
     "output_type": "stream",
     "text": [
      "Orijinal MedInc için D'Agostino K² Testi: p-value = 0.0000\n",
      "Orijinal MedInc normal DAĞILMIYOR \n",
      "\n",
      "Log Dönüşümü için D'Agostino K² Testi: p-value = 0.0000\n",
      "Log Dönüşümü normal DAĞILMIYOR \n",
      "\n",
      "Karekök Dönüşümü için D'Agostino K² Testi: p-value = 0.0000\n",
      "Karekök Dönüşümü normal DAĞILMIYOR \n",
      "\n",
      "Box-Cox Dönüşümü için D'Agostino K² Testi: p-value = 0.0168\n",
      "Box-Cox Dönüşümü normal DAĞILMIYOR \n",
      "\n"
     ]
    }
   ],
   "source": [
    "# Orijinal ve dönüşmüş verileri test ettim\n",
    "normality_test(df['MedInc'], \"Orijinal MedInc\")\n",
    "normality_test(df['MedInc_log'], \"Log Dönüşümü\")\n",
    "normality_test(df['MedInc_sqrt'], \"Karekök Dönüşümü\")\n",
    "normality_test(df['MedInc_boxcox'], \"Box-Cox Dönüşümü\")"
   ]
  },
  {
   "cell_type": "code",
   "execution_count": null,
   "id": "89ef41aa",
   "metadata": {},
   "outputs": [],
   "source": []
  }
 ],
 "metadata": {
  "kernelspec": {
   "display_name": "Python 3 (ipykernel)",
   "language": "python",
   "name": "python3"
  },
  "language_info": {
   "codemirror_mode": {
    "name": "ipython",
    "version": 3
   },
   "file_extension": ".py",
   "mimetype": "text/x-python",
   "name": "python",
   "nbconvert_exporter": "python",
   "pygments_lexer": "ipython3",
   "version": "3.9.12"
  }
 },
 "nbformat": 4,
 "nbformat_minor": 5
}
